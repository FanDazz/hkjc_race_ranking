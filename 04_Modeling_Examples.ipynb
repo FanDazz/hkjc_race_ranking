{
 "cells": [
  {
   "attachments": {},
   "cell_type": "markdown",
   "metadata": {},
   "source": [
    "## Modeling\n",
    "\n",
    "> - Author: Shenghui, Yibo\n",
    "> - Date: 2023/05\n",
    "\n",
    "We have packed model, data, train, and grid-search into our `./horse/`, here we present some **useful commands for different conditions (Part 1)**.\n",
    "\n",
    "Note that most model is trained based on GPU by default.\n",
    "\n",
    "Besides, it also works for **scirpts in notebooks (Part 2)**."
   ]
  },
  {
   "attachments": {},
   "cell_type": "markdown",
   "metadata": {},
   "source": [
    "## 1 Easy Devs with Commands"
   ]
  },
  {
   "attachments": {},
   "cell_type": "markdown",
   "metadata": {},
   "source": [
    "### 1.1 Machine Learning Models"
   ]
  },
  {
   "cell_type": "code",
   "execution_count": null,
   "metadata": {},
   "outputs": [],
   "source": [
    "!python ./horse/ml_train.py --logistic --C 0.0001"
   ]
  },
  {
   "attachments": {},
   "cell_type": "markdown",
   "metadata": {},
   "source": [
    "### 1.2 Deep Learning Models\n",
    "   "
   ]
  },
  {
   "cell_type": "code",
   "execution_count": null,
   "metadata": {},
   "outputs": [],
   "source": [
    "# Point-wise\n",
    "!python ./horse/train.py --model_name EmbMLP --k_dim_field 4 --k_dim_id 16 --num_layers 5 --epoch 8 --batch_size 20 --learning_rate 5e-5 --weight_decay 1e-3"
   ]
  },
  {
   "cell_type": "code",
   "execution_count": null,
   "metadata": {},
   "outputs": [],
   "source": [
    "# Pair-wise\n",
    "!python ./horse/train_pairwise.py --model_name EmbMLP --k_dim_field 4 --k_dim_id 16 --num_layers 5 --epoch 8 --batch_size 20 --learning_rate 5e-5 --weight_decay 1e-3"
   ]
  },
  {
   "attachments": {},
   "cell_type": "markdown",
   "metadata": {},
   "source": [
    "### 1.2 Grid Search for hyperparam-tunning"
   ]
  },
  {
   "cell_type": "code",
   "execution_count": null,
   "metadata": {},
   "outputs": [],
   "source": [
    "# ML\n",
    "!python ./horse/grid_search.py --model_name logistic"
   ]
  },
  {
   "cell_type": "code",
   "execution_count": null,
   "metadata": {},
   "outputs": [],
   "source": [
    "# DL: Point-wise\n",
    "!python ./horse/dl_grid_search.py --train_file_path ./horse/ml_train.py --model_name EmbMLP"
   ]
  },
  {
   "cell_type": "code",
   "execution_count": null,
   "metadata": {},
   "outputs": [],
   "source": [
    "# DL: Pair-wise\n",
    "!python ./horse/dl_grid_search.py --train_file_path ./horse/train_pairwise.py --model_name EmbMLP "
   ]
  },
  {
   "attachments": {},
   "cell_type": "markdown",
   "metadata": {},
   "source": [
    "## 2 Try with scripts!"
   ]
  },
  {
   "attachments": {},
   "cell_type": "markdown",
   "metadata": {},
   "source": [
    "## 2.1 Load Dataset "
   ]
  },
  {
   "cell_type": "code",
   "execution_count": 1,
   "metadata": {},
   "outputs": [],
   "source": [
    "from horse.data.load_data import DataSet\n",
    "\n",
    "\n",
    "data = DataSet(\n",
    "    # z-score standarlization for numeric features\n",
    "    scaling=True                \n",
    "    # mapping categorical with ix, for emb lookups\n",
    "    , do_categorization=True    \n",
    "    # best 22 features, check more in feature selection\n",
    "    , use_best_feats=True       \n",
    ")\n",
    "train, val, test = data.my_train_val_test_split([0.8, 0.1, 0.1])"
   ]
  },
  {
   "attachments": {},
   "cell_type": "markdown",
   "metadata": {},
   "source": [
    "### 3.2 Call our models, design your own training ways!"
   ]
  },
  {
   "attachments": {},
   "cell_type": "markdown",
   "metadata": {},
   "source": [
    "Please note that all models involved are callable. As for machine learning, call as you do with sklearn; As for Deep Learning based models, we provide model class with torch, as well as training files."
   ]
  },
  {
   "cell_type": "code",
   "execution_count": 2,
   "metadata": {},
   "outputs": [
    {
     "ename": "ModuleNotFoundError",
     "evalue": "No module named 'horse.model.factorization_machine'",
     "output_type": "error",
     "traceback": [
      "\u001b[1;31m---------------------------------------------------------------------------\u001b[0m",
      "\u001b[1;31mModuleNotFoundError\u001b[0m                       Traceback (most recent call last)",
      "\u001b[1;32mc:\\Users\\Shenghui\\Desktop\\my_repository\\hkjc_race_ranking\\04_Modeling_Examples.ipynb Cell 17\u001b[0m in \u001b[0;36m<cell line: 1>\u001b[1;34m()\u001b[0m\n\u001b[1;32m----> <a href='vscode-notebook-cell:/c%3A/Users/Shenghui/Desktop/my_repository/hkjc_race_ranking/04_Modeling_Examples.ipynb#X14sZmlsZQ%3D%3D?line=0'>1</a>\u001b[0m \u001b[39mfrom\u001b[39;00m \u001b[39mhorse\u001b[39;00m\u001b[39m.\u001b[39;00m\u001b[39mmodel\u001b[39;00m \u001b[39mimport\u001b[39;00m HKJC_models \u001b[39mas\u001b[39;00m ml_model\n\u001b[0;32m      <a href='vscode-notebook-cell:/c%3A/Users/Shenghui/Desktop/my_repository/hkjc_race_ranking/04_Modeling_Examples.ipynb#X14sZmlsZQ%3D%3D?line=1'>2</a>\u001b[0m \u001b[39mfrom\u001b[39;00m \u001b[39mhorse\u001b[39;00m\u001b[39m.\u001b[39;00m\u001b[39mmodel\u001b[39;00m \u001b[39mimport\u001b[39;00m racing_model \u001b[39mas\u001b[39;00m dl_model\n\u001b[0;32m      <a href='vscode-notebook-cell:/c%3A/Users/Shenghui/Desktop/my_repository/hkjc_race_ranking/04_Modeling_Examples.ipynb#X14sZmlsZQ%3D%3D?line=5'>6</a>\u001b[0m \u001b[39m\"\"\" \u001b[39;00m\n\u001b[0;32m      <a href='vscode-notebook-cell:/c%3A/Users/Shenghui/Desktop/my_repository/hkjc_race_ranking/04_Modeling_Examples.ipynb#X14sZmlsZQ%3D%3D?line=6'>7</a>\u001b[0m \u001b[39m[Choices for dl_model]:\u001b[39;00m\n\u001b[0;32m      <a href='vscode-notebook-cell:/c%3A/Users/Shenghui/Desktop/my_repository/hkjc_race_ranking/04_Modeling_Examples.ipynb#X14sZmlsZQ%3D%3D?line=7'>8</a>\u001b[0m \u001b[39m- dl_model.LinEmbConcat()\u001b[39;00m\n\u001b[1;32m   (...)\u001b[0m\n\u001b[0;32m     <a href='vscode-notebook-cell:/c%3A/Users/Shenghui/Desktop/my_repository/hkjc_race_ranking/04_Modeling_Examples.ipynb#X14sZmlsZQ%3D%3D?line=17'>18</a>\u001b[0m \u001b[39m- XGBoostClassifier\u001b[39;00m\n\u001b[0;32m     <a href='vscode-notebook-cell:/c%3A/Users/Shenghui/Desktop/my_repository/hkjc_race_ranking/04_Modeling_Examples.ipynb#X14sZmlsZQ%3D%3D?line=18'>19</a>\u001b[0m \u001b[39m\"\"\"\u001b[39;00m\n",
      "File \u001b[1;32mc:\\Users\\Shenghui\\Desktop\\my_repository\\hkjc_race_ranking\\horse\\model\\__init__.py:3\u001b[0m, in \u001b[0;36m<module>\u001b[1;34m\u001b[0m\n\u001b[0;32m      1\u001b[0m \u001b[39mfrom\u001b[39;00m \u001b[39m.\u001b[39;00m\u001b[39mracing_model\u001b[39;00m \u001b[39mimport\u001b[39;00m \u001b[39m*\u001b[39m\n\u001b[0;32m      2\u001b[0m \u001b[39mfrom\u001b[39;00m \u001b[39m.\u001b[39;00m\u001b[39mml_model\u001b[39;00m \u001b[39mimport\u001b[39;00m HKJC_models\n\u001b[1;32m----> 3\u001b[0m \u001b[39mfrom\u001b[39;00m \u001b[39m.\u001b[39;00m\u001b[39mfactorization_machine\u001b[39;00m \u001b[39mimport\u001b[39;00m FM\n\u001b[0;32m      5\u001b[0m \u001b[39m__name__\u001b[39m \u001b[39m=\u001b[39m [\n\u001b[0;32m      6\u001b[0m     \u001b[39m# Loss\u001b[39;00m\n\u001b[0;32m      7\u001b[0m     \u001b[39m'\u001b[39m\u001b[39mMSELoss\u001b[39m\u001b[39m'\u001b[39m\n\u001b[1;32m   (...)\u001b[0m\n\u001b[0;32m     15\u001b[0m     , \u001b[39m'\u001b[39m\u001b[39mEmbMLP\u001b[39m\u001b[39m'\u001b[39m\n\u001b[0;32m     16\u001b[0m ]\n",
      "\u001b[1;31mModuleNotFoundError\u001b[0m: No module named 'horse.model.factorization_machine'"
     ]
    }
   ],
   "source": [
    "from horse.model import HKJC_models as ml_model\n",
    "from horse.model import racing_model as dl_model\n",
    "\n",
    "\n",
    "\n",
    "\"\"\" \n",
    "[Choices for dl_model]:\n",
    "- dl_model.LinEmbConcat()\n",
    "- dl_model.LinEmbDotProd()\n",
    "- dl_model.LinEmbElemProd()\n",
    "- dl_model.EmbMLP()\n",
    "\n",
    "[Choices for ml_model]:\n",
    "- LogisticRegression\n",
    "- DecisionTreeClassifier\n",
    "- RandomForestClassifier\n",
    "- AdaBoostClassifier\n",
    "- XGBoostClassifier\n",
    "\"\"\"\n",
    "\n",
    "# try it by yourself"
   ]
  }
 ],
 "metadata": {
  "kernelspec": {
   "display_name": "Python 3",
   "language": "python",
   "name": "python3"
  },
  "language_info": {
   "codemirror_mode": {
    "name": "ipython",
    "version": 3
   },
   "file_extension": ".py",
   "mimetype": "text/x-python",
   "name": "python",
   "nbconvert_exporter": "python",
   "pygments_lexer": "ipython3",
   "version": "3.8.10"
  }
 },
 "nbformat": 4,
 "nbformat_minor": 4
}
