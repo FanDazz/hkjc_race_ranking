{
 "cells": [
  {
   "cell_type": "code",
   "execution_count": 7,
   "metadata": {},
   "outputs": [
    {
     "name": "stdout",
     "output_type": "stream",
     "text": [
      "Namespace(batch_size=20, dataset_path='./horse/data/perform_clean.csv', do_scale=True, epoch=8, k_dim_field=4, k_dim_id=16, layer_size_reduction=0.5, learning_rate=5e-05, model_name='LinEmbElemProd', num_layers=2, out_src='./output', p_dropout=0.1, test_size=0.1, train_size=0.8, use_cuda=True, val_size=0.1, weight_decay=0.001)\n",
      "LinEmbElemProd(\n",
      "  (emb_dr): Embedding(15, 4)\n",
      "  (emb_field): Embedding(9, 4)\n",
      "  (emb_jockey): Embedding(131, 16)\n",
      "  (emb_horse): Embedding(4399, 16)\n",
      "  (emb_trainer): Embedding(129, 16)\n",
      "  (Linear): Linear(in_features=45, out_features=1, bias=True)\n",
      ")\n",
      "[11.965s] Iter=0, train loss=0.966\n",
      "\t [VAL] AP=0.07; [TEST] AP=0.077\n",
      "[11.859s] Iter=1, train loss=0.934\n",
      "\t [VAL] AP=0.097; [TEST] AP=0.102\n",
      "[11.445s] Iter=2, train loss=0.897\n",
      "\t [VAL] AP=0.11; [TEST] AP=0.106\n",
      "[12.468s] Iter=3, train loss=0.869\n",
      "\t [VAL] AP=0.11; [TEST] AP=0.119\n",
      "[11.7s] Iter=4, train loss=0.851\n",
      "\t [VAL] AP=0.123; [TEST] AP=0.131\n",
      "[11.463s] Iter=5, train loss=0.842\n",
      "\t [VAL] AP=0.121; [TEST] AP=0.133\n",
      "[11.675s] Iter=6, train loss=0.837\n",
      "\t [VAL] AP=0.127; [TEST] AP=0.131\n",
      "[11.365s] Iter=7, train loss=0.835\n",
      "\t [VAL] AP=0.119; [TEST] AP=0.127\n"
     ]
    }
   ],
   "source": [
    "!python ./horse/train.py --model_name LinEmbElemProd --k_dim_field 4 --k_dim_id 16 --epoch 8 --batch_size 20 --learning_rate 5e-5 --weight_decay 1e-3"
   ]
  }
 ],
 "metadata": {
  "kernelspec": {
   "display_name": "Python 3",
   "language": "python",
   "name": "python3"
  },
  "language_info": {
   "codemirror_mode": {
    "name": "ipython",
    "version": 3
   },
   "file_extension": ".py",
   "mimetype": "text/x-python",
   "name": "python",
   "nbconvert_exporter": "python",
   "pygments_lexer": "ipython3",
   "version": "3.8.5"
  }
 },
 "nbformat": 4,
 "nbformat_minor": 4
}
