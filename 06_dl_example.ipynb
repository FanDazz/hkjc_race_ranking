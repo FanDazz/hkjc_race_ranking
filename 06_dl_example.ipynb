{
 "cells": [
  {
   "cell_type": "code",
   "execution_count": 1,
   "metadata": {},
   "outputs": [
    {
     "name": "stdout",
     "output_type": "stream",
     "text": [
      "Namespace(C=0.5, algorithm='SAMME', alpha=1.0, colsample_bytree=0.8, criterion='entropy', dataset_path='./horse/data/perform_full_feature.csv', do_categorization=True, do_scale=True, eval_metric='mae', if_odds=False, learning_rate=0.1, loss='linear', max_depth=10, max_iter=1000, min_child_weight=1, min_samples_leaf=10, min_samples_split=10, model='logistic', n_estimators=50, objective='binary:logistic', penalty='l1', random_state=8017, reg_alpha=0.0001, reg_lambda=0.0001, solver='liblinear', splitter='random', subsample=0.8, target='is_champ', test_size=0.1, train_size=0.8, tree_method='gpu_hist', use_best_feats=True, val_size=0.1)\n",
      "Index(['race_key', 'race_date', 'race_money', 'horse_bestperform_h',\n",
      "       'horse_champ_rate_h', 'horse_champs_h', 'horse_life_time_d',\n",
      "       'horse_place_m', 'horse_top4_rate_y', 'horse_top4_h',\n",
      "       'horse_top4_last5', 'jockey_champ_rate_h', 'jockey_champ_last5',\n",
      "       'jockey_champ_y', 'jockey_champ_rate_y', 'jockey_elo',\n",
      "       'jockey_top4_rate_y', 'jockey_top4_m', 'jockey_top4_rate_m',\n",
      "       'trainer_champ_rate_h', 'trainer_champ_rate_y', 'trainer_place_rate_h',\n",
      "       'trainer_top4_rate_y', 'trainer_top4_rate_m', 'is_champ', 'pla', 'dr'],\n",
      "      dtype='object')\n",
      "[0.768 s] DONE logistic.\n",
      "AP for logistic: 0.303\n",
      "Model Saved!\n"
     ]
    }
   ],
   "source": [
    "!python ./horse/ml_train.py"
   ]
  },
  {
   "cell_type": "code",
   "execution_count": 4,
   "metadata": {},
   "outputs": [
    {
     "name": "stdout",
     "output_type": "stream",
     "text": [
      "Namespace(batch_size=25, dataset_path='./horse/data/perform_clean.csv', do_scale=True, epoch=20, k_dim_field=4, k_dim_id=16, layer_size_reduction=0.5, learning_rate=0.01, model_name='LinEmbElemProd', num_layers=2, out_src='./output', p_dropout=0.1, test_size=0.1, train_size=0.8, use_cuda=True, use_numeric=False, val_size=0.1, weight_decay=0.5)\n",
      "LinEmbElemProd(\n",
      "  (emb_dr): Embedding(15, 4)\n",
      "  (emb_field): Embedding(9, 4)\n",
      "  (emb_jockey): Embedding(131, 16)\n",
      "  (emb_horse): Embedding(4399, 16)\n",
      "  (emb_trainer): Embedding(129, 16)\n",
      "  (Linear): Linear(in_features=40, out_features=1, bias=True)\n",
      ")\n",
      "[22.202s] Iter=0, train loss=0.837\n",
      "\t [VAL] AP=0.095; [TEST] AP=0.108\n",
      "[15.625s] Iter=1, train loss=0.833\n",
      "\t [VAL] AP=0.117; [TEST] AP=0.112\n",
      "[15.745s] Iter=2, train loss=0.833\n",
      "\t [VAL] AP=0.085; [TEST] AP=0.073\n",
      "[15.757s] Iter=3, train loss=0.833\n",
      "\t [VAL] AP=0.129; [TEST] AP=0.104\n",
      "[15.252s] Iter=4, train loss=0.833\n",
      "\t [VAL] AP=0.127; [TEST] AP=0.106\n",
      "[15.288s] Iter=5, train loss=0.833\n",
      "\t [VAL] AP=0.131; [TEST] AP=0.104\n",
      "[15.849s] Iter=6, train loss=0.833\n",
      "\t [VAL] AP=0.091; [TEST] AP=0.085\n",
      "[15.715s] Iter=7, train loss=0.833\n",
      "\t [VAL] AP=0.133; [TEST] AP=0.11\n",
      "[15.937s] Iter=8, train loss=0.833\n",
      "\t [VAL] AP=0.095; [TEST] AP=0.108\n",
      "[15.789s] Iter=9, train loss=0.833\n",
      "\t [VAL] AP=0.131; [TEST] AP=0.108\n",
      "[15.923s] Iter=10, train loss=0.833\n",
      "\t [VAL] AP=0.106; [TEST] AP=0.102\n",
      "[15.681s] Iter=11, train loss=0.833\n",
      "\t [VAL] AP=0.133; [TEST] AP=0.11\n",
      "[16.177s] Iter=12, train loss=0.833\n",
      "\t [VAL] AP=0.121; [TEST] AP=0.117\n",
      "[15.614s] Iter=13, train loss=0.833\n",
      "\t [VAL] AP=0.119; [TEST] AP=0.117\n",
      "[15.583s] Iter=14, train loss=0.833\n",
      "\t [VAL] AP=0.131; [TEST] AP=0.112\n",
      "[15.321s] Iter=15, train loss=0.833\n",
      "\t [VAL] AP=0.074; [TEST] AP=0.05\n",
      "[15.834s] Iter=16, train loss=0.833\n",
      "\t [VAL] AP=0.083; [TEST] AP=0.081\n",
      "[15.565s] Iter=17, train loss=0.833\n",
      "\t [VAL] AP=0.136; [TEST] AP=0.112\n",
      "[16.838s] Iter=18, train loss=0.833\n",
      "\t [VAL] AP=0.133; [TEST] AP=0.112\n",
      "[16.731s] Iter=19, train loss=0.833\n",
      "\t [VAL] AP=0.136; [TEST] AP=0.11\n"
     ]
    }
   ],
   "source": [
    "!python ./horse/train.py --model_name LinEmbElemProd --k_dim_field 4 --k_dim_id 16 --epoch 20 --batch_size 25 --learning_rate 0.01 --weight_decay 0.5"
   ]
  },
  {
   "cell_type": "code",
   "execution_count": 1,
   "metadata": {},
   "outputs": [
    {
     "name": "stdout",
     "output_type": "stream",
     "text": [
      "ARGUMENTS: Namespace(batch_size=25, dataset_path='./horse/data/perform_clean.csv', do_pairsise=True, do_scale=True, epoch=20, k_dim_field=4, k_dim_id=16, layer_size_reduction=0.5, learning_rate=0.01, model_name='LinEmbElemProd', num_layers=2, out_src='./output', p_dropout=0.1, sampling_perc=0.8, test_size=0.1, train_size=0.8, use_cuda=True, use_numeric=False, val_size=0.1, weight_decay=0.5)\n",
      "\n",
      "MODEL: LinEmbElemProd(\n",
      "  (activation): Identity()\n",
      "  (emb_dr): Embedding(15, 4)\n",
      "  (emb_field): Embedding(9, 4)\n",
      "  (emb_jockey): Embedding(131, 16)\n",
      "  (emb_horse): Embedding(4399, 16)\n",
      "  (emb_trainer): Embedding(129, 16)\n",
      "  (Linear): Linear(in_features=40, out_features=1, bias=True)\n",
      ")\n",
      "\n"
     ]
    },
    {
     "name": "stderr",
     "output_type": "stream",
     "text": [
      "Traceback (most recent call last):\n",
      "  File \"./horse/train_pairwise.py\", line 190, in <module>\n",
      "    model = model.to(compute_device)\n",
      "  File \"e:\\python38\\lib\\site-packages\\torch\\nn\\modules\\module.py\", line 899, in to\n",
      "    return self._apply(convert)\n",
      "  File \"e:\\python38\\lib\\site-packages\\torch\\nn\\modules\\module.py\", line 570, in _apply\n",
      "    module._apply(fn)\n",
      "  File \"e:\\python38\\lib\\site-packages\\torch\\nn\\modules\\module.py\", line 593, in _apply\n",
      "    param_applied = fn(param)\n",
      "  File \"e:\\python38\\lib\\site-packages\\torch\\nn\\modules\\module.py\", line 897, in convert\n",
      "    return t.to(device, dtype if t.is_floating_point() or t.is_complex() else None, non_blocking)\n",
      "  File \"e:\\python38\\lib\\site-packages\\torch\\cuda\\__init__.py\", line 214, in _lazy_init\n",
      "    torch._C._cuda_init()\n",
      "RuntimeError: CUDA unknown error - this may be due to an incorrectly set up environment, e.g. changing env variable CUDA_VISIBLE_DEVICES after program start. Setting the available devices to be zero.\n"
     ]
    }
   ],
   "source": [
    "!python ./horse/train_pairwise.py --model_name LinEmbElemProd --k_dim_field 4 --k_dim_id 16 --epoch 20 --batch_size 25 --learning_rate 0.01 --weight_decay 0.5"
   ]
  },
  {
   "cell_type": "code",
   "execution_count": 2,
   "metadata": {},
   "outputs": [
    {
     "name": "stderr",
     "output_type": "stream",
     "text": [
      "e:\\python38\\lib\\site-packages\\torch\\cuda\\__init__.py:80: UserWarning: CUDA initialization: CUDA unknown error - this may be due to an incorrectly set up environment, e.g. changing env variable CUDA_VISIBLE_DEVICES after program start. Setting the available devices to be zero. (Triggered internally at  ..\\c10\\cuda\\CUDAFunctions.cpp:112.)\n",
      "  return torch._C._cuda_getDeviceCount() > 0\n"
     ]
    },
    {
     "data": {
      "text/plain": [
       "False"
      ]
     },
     "execution_count": 2,
     "metadata": {},
     "output_type": "execute_result"
    }
   ],
   "source": [
    "import torch\n",
    "torch.cuda.is_available()"
   ]
  },
  {
   "cell_type": "code",
   "execution_count": 3,
   "metadata": {},
   "outputs": [
    {
     "name": "stdout",
     "output_type": "stream",
     "text": [
      "Namespace(batch_size=20, dataset_path='./horse/data/perform_clean.csv', do_scale=True, epoch=20, k_dim_field=4, k_dim_id=16, layer_size_reduction=0.5, learning_rate=0.01, model_name='LinEmbConcat', num_layers=2, out_src='./output', p_dropout=0.1, test_size=0.1, train_size=0.8, use_cuda=True, use_numeric=False, val_size=0.1, weight_decay=0.5)\n",
      "LinEmbConcat(\n",
      "  (emb_dr): Embedding(15, 4)\n",
      "  (emb_field): Embedding(9, 4)\n",
      "  (emb_jockey): Embedding(131, 16)\n",
      "  (emb_horse): Embedding(4399, 16)\n",
      "  (emb_trainer): Embedding(129, 16)\n",
      "  (Linear): Linear(in_features=56, out_features=1, bias=True)\n",
      ")\n",
      "[24.156s] Iter=0, train loss=0.835\n",
      "\t [VAL] AP=0.066; [TEST] AP=0.067\n",
      "[17.481s] Iter=1, train loss=0.833\n",
      "\t [VAL] AP=0.057; [TEST] AP=0.075\n",
      "[16.89s] Iter=2, train loss=0.833\n",
      "\t [VAL] AP=0.064; [TEST] AP=0.069\n",
      "[17.074s] Iter=3, train loss=0.833\n",
      "\t [VAL] AP=0.059; [TEST] AP=0.085\n",
      "[16.771s] Iter=4, train loss=0.833\n",
      "\t [VAL] AP=0.102; [TEST] AP=0.069\n",
      "[17.221s] Iter=5, train loss=0.833\n",
      "\t [VAL] AP=0.11; [TEST] AP=0.096\n",
      "[17.158s] Iter=6, train loss=0.833\n",
      "\t [VAL] AP=0.136; [TEST] AP=0.102\n",
      "[17.142s] Iter=7, train loss=0.833\n",
      "\t [VAL] AP=0.091; [TEST] AP=0.096\n",
      "[16.907s] Iter=8, train loss=0.833\n",
      "\t [VAL] AP=0.104; [TEST] AP=0.096\n",
      "[16.703s] Iter=9, train loss=0.833\n",
      "\t [VAL] AP=0.085; [TEST] AP=0.096\n",
      "[17.117s] Iter=10, train loss=0.833\n",
      "\t [VAL] AP=0.089; [TEST] AP=0.09\n",
      "[17.797s] Iter=11, train loss=0.833\n",
      "\t [VAL] AP=0.083; [TEST] AP=0.1\n",
      "[17.322s] Iter=12, train loss=0.833\n",
      "\t [VAL] AP=0.085; [TEST] AP=0.092\n",
      "[16.331s] Iter=13, train loss=0.833\n",
      "\t [VAL] AP=0.087; [TEST] AP=0.096\n",
      "[16.745s] Iter=14, train loss=0.833\n",
      "\t [VAL] AP=0.081; [TEST] AP=0.094\n",
      "[17.107s] Iter=15, train loss=0.833\n",
      "\t [VAL] AP=0.081; [TEST] AP=0.09\n",
      "[16.947s] Iter=16, train loss=0.833\n",
      "\t [VAL] AP=0.083; [TEST] AP=0.088\n",
      "[16.987s] Iter=17, train loss=0.833\n",
      "\t [VAL] AP=0.078; [TEST] AP=0.098\n",
      "[17.049s] Iter=18, train loss=0.833\n",
      "\t [VAL] AP=0.083; [TEST] AP=0.094\n",
      "[17.24s] Iter=19, train loss=0.833\n",
      "\t [VAL] AP=0.078; [TEST] AP=0.096\n"
     ]
    }
   ],
   "source": [
    "!python ./horse/train.py --model_name LinEmbConcat --k_dim_field 4 --k_dim_id 16 --epoch 20 --batch_size 20 --learning_rate 0.01 --weight_decay 0.5"
   ]
  },
  {
   "cell_type": "code",
   "execution_count": 5,
   "metadata": {},
   "outputs": [
    {
     "name": "stdout",
     "output_type": "stream",
     "text": [
      "[12.112 s] DONE logistic.\n",
      "AP for logistic: 0.2436\n",
      "Model Saved!\n"
     ]
    }
   ],
   "source": [
    "!python ./horse/ml_train.py"
   ]
  }
 ],
 "metadata": {
  "kernelspec": {
   "display_name": "Python 3",
   "language": "python",
   "name": "python3"
  },
  "language_info": {
   "codemirror_mode": {
    "name": "ipython",
    "version": 3
   },
   "file_extension": ".py",
   "mimetype": "text/x-python",
   "name": "python",
   "nbconvert_exporter": "python",
   "pygments_lexer": "ipython3",
   "version": "3.8.10"
  }
 },
 "nbformat": 4,
 "nbformat_minor": 4
}
