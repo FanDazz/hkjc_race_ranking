{
 "cells": [
  {
   "cell_type": "code",
   "execution_count": 2,
   "metadata": {},
   "outputs": [
    {
     "data": {
      "text/html": [
       "<div>\n",
       "<style scoped>\n",
       "    .dataframe tbody tr th:only-of-type {\n",
       "        vertical-align: middle;\n",
       "    }\n",
       "\n",
       "    .dataframe tbody tr th {\n",
       "        vertical-align: top;\n",
       "    }\n",
       "\n",
       "    .dataframe thead th {\n",
       "        text-align: right;\n",
       "    }\n",
       "</style>\n",
       "<table border=\"1\" class=\"dataframe\">\n",
       "  <thead>\n",
       "    <tr style=\"text-align: right;\">\n",
       "      <th></th>\n",
       "      <th>race_key</th>\n",
       "      <th>race_date</th>\n",
       "      <th>dr</th>\n",
       "      <th>distance</th>\n",
       "      <th>field_going</th>\n",
       "      <th>course_type</th>\n",
       "      <th>race_money</th>\n",
       "      <th>act_wt</th>\n",
       "      <th>declare_horse_wt</th>\n",
       "      <th>win_odds</th>\n",
       "      <th>horse</th>\n",
       "      <th>jockey</th>\n",
       "      <th>trainer</th>\n",
       "      <th>is_champ</th>\n",
       "      <th>pla</th>\n",
       "      <th>finish_time</th>\n",
       "    </tr>\n",
       "  </thead>\n",
       "  <tbody>\n",
       "    <tr>\n",
       "      <th>0</th>\n",
       "      <td>2015/04/22_1</td>\n",
       "      <td>2015/04/22</td>\n",
       "      <td>2</td>\n",
       "      <td>1000</td>\n",
       "      <td>好地至快地</td>\n",
       "      <td>草地</td>\n",
       "      <td>575000</td>\n",
       "      <td>120</td>\n",
       "      <td>1186</td>\n",
       "      <td>7.3</td>\n",
       "      <td>有情風(N139)</td>\n",
       "      <td>薛寶力</td>\n",
       "      <td>吳定強</td>\n",
       "      <td>0</td>\n",
       "      <td>1</td>\n",
       "      <td>57.37</td>\n",
       "    </tr>\n",
       "    <tr>\n",
       "      <th>1</th>\n",
       "      <td>2015/04/22_1</td>\n",
       "      <td>2015/04/22</td>\n",
       "      <td>3</td>\n",
       "      <td>1000</td>\n",
       "      <td>好地至快地</td>\n",
       "      <td>草地</td>\n",
       "      <td>575000</td>\n",
       "      <td>132</td>\n",
       "      <td>1022</td>\n",
       "      <td>6.1</td>\n",
       "      <td>樂趣(S150)</td>\n",
       "      <td>韋達</td>\n",
       "      <td>霍利時</td>\n",
       "      <td>0</td>\n",
       "      <td>2</td>\n",
       "      <td>57.53</td>\n",
       "    </tr>\n",
       "    <tr>\n",
       "      <th>2</th>\n",
       "      <td>2015/04/22_1</td>\n",
       "      <td>2015/04/22</td>\n",
       "      <td>5</td>\n",
       "      <td>1000</td>\n",
       "      <td>好地至快地</td>\n",
       "      <td>草地</td>\n",
       "      <td>575000</td>\n",
       "      <td>121</td>\n",
       "      <td>1085</td>\n",
       "      <td>48.0</td>\n",
       "      <td>穩佔先機(N359)</td>\n",
       "      <td>連達文</td>\n",
       "      <td>苗禮德</td>\n",
       "      <td>0</td>\n",
       "      <td>3</td>\n",
       "      <td>57.78</td>\n",
       "    </tr>\n",
       "    <tr>\n",
       "      <th>3</th>\n",
       "      <td>2015/04/22_1</td>\n",
       "      <td>2015/04/22</td>\n",
       "      <td>7</td>\n",
       "      <td>1000</td>\n",
       "      <td>好地至快地</td>\n",
       "      <td>草地</td>\n",
       "      <td>575000</td>\n",
       "      <td>127</td>\n",
       "      <td>1211</td>\n",
       "      <td>7.8</td>\n",
       "      <td>上浦勇將(P285)</td>\n",
       "      <td>田泰安</td>\n",
       "      <td>徐雨石</td>\n",
       "      <td>0</td>\n",
       "      <td>4</td>\n",
       "      <td>57.82</td>\n",
       "    </tr>\n",
       "    <tr>\n",
       "      <th>4</th>\n",
       "      <td>2015/04/22_1</td>\n",
       "      <td>2015/04/22</td>\n",
       "      <td>1</td>\n",
       "      <td>1000</td>\n",
       "      <td>好地至快地</td>\n",
       "      <td>草地</td>\n",
       "      <td>575000</td>\n",
       "      <td>124</td>\n",
       "      <td>1088</td>\n",
       "      <td>14.0</td>\n",
       "      <td>大地王者(L251)</td>\n",
       "      <td>黎海榮</td>\n",
       "      <td>李易達</td>\n",
       "      <td>0</td>\n",
       "      <td>5</td>\n",
       "      <td>57.89</td>\n",
       "    </tr>\n",
       "  </tbody>\n",
       "</table>\n",
       "</div>"
      ],
      "text/plain": [
       "       race_key   race_date  dr  distance field_going course_type  race_money  \\\n",
       "0  2015/04/22_1  2015/04/22   2      1000       好地至快地          草地      575000   \n",
       "1  2015/04/22_1  2015/04/22   3      1000       好地至快地          草地      575000   \n",
       "2  2015/04/22_1  2015/04/22   5      1000       好地至快地          草地      575000   \n",
       "3  2015/04/22_1  2015/04/22   7      1000       好地至快地          草地      575000   \n",
       "4  2015/04/22_1  2015/04/22   1      1000       好地至快地          草地      575000   \n",
       "\n",
       "   act_wt  declare_horse_wt  win_odds       horse jockey trainer  is_champ  \\\n",
       "0     120              1186       7.3   有情風(N139)    薛寶力     吳定強         0   \n",
       "1     132              1022       6.1    樂趣(S150)     韋達     霍利時         0   \n",
       "2     121              1085      48.0  穩佔先機(N359)    連達文     苗禮德         0   \n",
       "3     127              1211       7.8  上浦勇將(P285)    田泰安     徐雨石         0   \n",
       "4     124              1088      14.0  大地王者(L251)    黎海榮     李易達         0   \n",
       "\n",
       "   pla  finish_time  \n",
       "0    1        57.37  \n",
       "1    2        57.53  \n",
       "2    3        57.78  \n",
       "3    4        57.82  \n",
       "4    5        57.89  "
      ]
     },
     "execution_count": 2,
     "metadata": {},
     "output_type": "execute_result"
    }
   ],
   "source": [
    "import pandas as pd\n",
    "\n",
    "perform = pd.read_csv('./horse/data/perform_clean.csv', sep=',', encoding='utf-8')\n",
    "perform.head(5)"
   ]
  },
  {
   "cell_type": "code",
   "execution_count": 5,
   "metadata": {},
   "outputs": [],
   "source": [
    "dm_perform = pd.get_dummies(perform, columns=['field_going', 'course_type', 'horse', 'jockey', 'trainer'])"
   ]
  },
  {
   "cell_type": "code",
   "execution_count": 8,
   "metadata": {},
   "outputs": [
    {
     "data": {
      "text/plain": [
       "(154587, 23232)"
      ]
     },
     "execution_count": 8,
     "metadata": {},
     "output_type": "execute_result"
    }
   ],
   "source": [
    "227**2*3, 96*11**2*2"
   ]
  },
  {
   "cell_type": "code",
   "execution_count": 3,
   "metadata": {},
   "outputs": [
    {
     "data": {
      "text/plain": [
       "((48715, 16), (5721, 16))"
      ]
     },
     "execution_count": 3,
     "metadata": {},
     "output_type": "execute_result"
    }
   ],
   "source": [
    "from horse.process import train_test_split\n",
    "\n",
    "train, test = train_test_split(perform, 'race_date', 0.1)\n",
    "\n",
    "train.shape, test.shape"
   ]
  }
 ],
 "metadata": {
  "kernelspec": {
   "display_name": "Python 3",
   "language": "python",
   "name": "python3"
  },
  "language_info": {
   "codemirror_mode": {
    "name": "ipython",
    "version": 3
   },
   "file_extension": ".py",
   "mimetype": "text/x-python",
   "name": "python",
   "nbconvert_exporter": "python",
   "pygments_lexer": "ipython3",
   "version": "3.8.10"
  },
  "orig_nbformat": 4,
  "vscode": {
   "interpreter": {
    "hash": "00499476119a38fdac92034240d7ef2fa4f5985bf02d398f0fd3693908f0286e"
   }
  }
 },
 "nbformat": 4,
 "nbformat_minor": 2
}
