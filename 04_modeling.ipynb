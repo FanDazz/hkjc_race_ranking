{
 "cells": [
  {
   "cell_type": "code",
   "execution_count": 1,
   "metadata": {},
   "outputs": [
    {
     "data": {
      "text/html": [
       "<div>\n",
       "<style scoped>\n",
       "    .dataframe tbody tr th:only-of-type {\n",
       "        vertical-align: middle;\n",
       "    }\n",
       "\n",
       "    .dataframe tbody tr th {\n",
       "        vertical-align: top;\n",
       "    }\n",
       "\n",
       "    .dataframe thead th {\n",
       "        text-align: right;\n",
       "    }\n",
       "</style>\n",
       "<table border=\"1\" class=\"dataframe\">\n",
       "  <thead>\n",
       "    <tr style=\"text-align: right;\">\n",
       "      <th></th>\n",
       "      <th>race_key</th>\n",
       "      <th>race_date</th>\n",
       "      <th>dr</th>\n",
       "      <th>distance</th>\n",
       "      <th>field_going</th>\n",
       "      <th>course_type</th>\n",
       "      <th>race_money</th>\n",
       "      <th>act_wt</th>\n",
       "      <th>declare_horse_wt</th>\n",
       "      <th>win_odds</th>\n",
       "      <th>horse</th>\n",
       "      <th>jockey</th>\n",
       "      <th>trainer</th>\n",
       "      <th>is_champ</th>\n",
       "      <th>pla</th>\n",
       "      <th>finish_time</th>\n",
       "      <th>speed</th>\n",
       "    </tr>\n",
       "  </thead>\n",
       "  <tbody>\n",
       "    <tr>\n",
       "      <th>0</th>\n",
       "      <td>2015/04/22_1</td>\n",
       "      <td>2015/04/22</td>\n",
       "      <td>2</td>\n",
       "      <td>1000</td>\n",
       "      <td>好地至快地</td>\n",
       "      <td>草地</td>\n",
       "      <td>575000</td>\n",
       "      <td>120</td>\n",
       "      <td>1186</td>\n",
       "      <td>7.3</td>\n",
       "      <td>有情風(N139)</td>\n",
       "      <td>薛寶力</td>\n",
       "      <td>吳定強</td>\n",
       "      <td>1</td>\n",
       "      <td>1</td>\n",
       "      <td>57.37</td>\n",
       "      <td>17.430713</td>\n",
       "    </tr>\n",
       "    <tr>\n",
       "      <th>1</th>\n",
       "      <td>2015/04/22_1</td>\n",
       "      <td>2015/04/22</td>\n",
       "      <td>3</td>\n",
       "      <td>1000</td>\n",
       "      <td>好地至快地</td>\n",
       "      <td>草地</td>\n",
       "      <td>575000</td>\n",
       "      <td>132</td>\n",
       "      <td>1022</td>\n",
       "      <td>6.1</td>\n",
       "      <td>樂趣(S150)</td>\n",
       "      <td>韋達</td>\n",
       "      <td>霍利時</td>\n",
       "      <td>0</td>\n",
       "      <td>2</td>\n",
       "      <td>57.53</td>\n",
       "      <td>17.382235</td>\n",
       "    </tr>\n",
       "    <tr>\n",
       "      <th>2</th>\n",
       "      <td>2015/04/22_1</td>\n",
       "      <td>2015/04/22</td>\n",
       "      <td>5</td>\n",
       "      <td>1000</td>\n",
       "      <td>好地至快地</td>\n",
       "      <td>草地</td>\n",
       "      <td>575000</td>\n",
       "      <td>121</td>\n",
       "      <td>1085</td>\n",
       "      <td>48.0</td>\n",
       "      <td>穩佔先機(N359)</td>\n",
       "      <td>連達文</td>\n",
       "      <td>苗禮德</td>\n",
       "      <td>0</td>\n",
       "      <td>3</td>\n",
       "      <td>57.78</td>\n",
       "      <td>17.307027</td>\n",
       "    </tr>\n",
       "    <tr>\n",
       "      <th>3</th>\n",
       "      <td>2015/04/22_1</td>\n",
       "      <td>2015/04/22</td>\n",
       "      <td>7</td>\n",
       "      <td>1000</td>\n",
       "      <td>好地至快地</td>\n",
       "      <td>草地</td>\n",
       "      <td>575000</td>\n",
       "      <td>127</td>\n",
       "      <td>1211</td>\n",
       "      <td>7.8</td>\n",
       "      <td>上浦勇將(P285)</td>\n",
       "      <td>田泰安</td>\n",
       "      <td>徐雨石</td>\n",
       "      <td>0</td>\n",
       "      <td>4</td>\n",
       "      <td>57.82</td>\n",
       "      <td>17.295054</td>\n",
       "    </tr>\n",
       "    <tr>\n",
       "      <th>4</th>\n",
       "      <td>2015/04/22_1</td>\n",
       "      <td>2015/04/22</td>\n",
       "      <td>1</td>\n",
       "      <td>1000</td>\n",
       "      <td>好地至快地</td>\n",
       "      <td>草地</td>\n",
       "      <td>575000</td>\n",
       "      <td>124</td>\n",
       "      <td>1088</td>\n",
       "      <td>14.0</td>\n",
       "      <td>大地王者(L251)</td>\n",
       "      <td>黎海榮</td>\n",
       "      <td>李易達</td>\n",
       "      <td>0</td>\n",
       "      <td>5</td>\n",
       "      <td>57.89</td>\n",
       "      <td>17.274141</td>\n",
       "    </tr>\n",
       "  </tbody>\n",
       "</table>\n",
       "</div>"
      ],
      "text/plain": [
       "       race_key   race_date  dr  distance field_going course_type  race_money  \\\n",
       "0  2015/04/22_1  2015/04/22   2      1000       好地至快地          草地      575000   \n",
       "1  2015/04/22_1  2015/04/22   3      1000       好地至快地          草地      575000   \n",
       "2  2015/04/22_1  2015/04/22   5      1000       好地至快地          草地      575000   \n",
       "3  2015/04/22_1  2015/04/22   7      1000       好地至快地          草地      575000   \n",
       "4  2015/04/22_1  2015/04/22   1      1000       好地至快地          草地      575000   \n",
       "\n",
       "   act_wt  declare_horse_wt  win_odds       horse jockey trainer  is_champ  \\\n",
       "0     120              1186       7.3   有情風(N139)    薛寶力     吳定強         1   \n",
       "1     132              1022       6.1    樂趣(S150)     韋達     霍利時         0   \n",
       "2     121              1085      48.0  穩佔先機(N359)    連達文     苗禮德         0   \n",
       "3     127              1211       7.8  上浦勇將(P285)    田泰安     徐雨石         0   \n",
       "4     124              1088      14.0  大地王者(L251)    黎海榮     李易達         0   \n",
       "\n",
       "   pla  finish_time      speed  \n",
       "0    1        57.37  17.430713  \n",
       "1    2        57.53  17.382235  \n",
       "2    3        57.78  17.307027  \n",
       "3    4        57.82  17.295054  \n",
       "4    5        57.89  17.274141  "
      ]
     },
     "execution_count": 1,
     "metadata": {},
     "output_type": "execute_result"
    }
   ],
   "source": [
    "import pandas as pd\n",
    "import warnings\n",
    "warnings.filterwarnings('ignore')\n",
    "\n",
    "\n",
    "perform = pd.read_csv('./horse/data/perform_clean.csv', sep=',', encoding='utf-8')\n",
    "perform['speed'] = perform['distance']/perform['finish_time']\n",
    "perform['is_champ'] = perform['pla'].apply(lambda x: 1 if x==1 else 0)\n",
    "\n",
    "y_cols = ['is_champ', 'pla', 'finish_time', 'speed']\n",
    "date_cols = ['race_key', 'race_date']\n",
    "\n",
    "get_x_cols = lambda x: [col for col in x if (col not in y_cols) and (col not in date_cols)]\n",
    "x_cols = get_x_cols(perform.columns)\n",
    "\n",
    "perform.head(5)"
   ]
  },
  {
   "cell_type": "code",
   "execution_count": 2,
   "metadata": {},
   "outputs": [
    {
     "data": {
      "text/plain": [
       "(54436, 17)"
      ]
     },
     "execution_count": 2,
     "metadata": {},
     "output_type": "execute_result"
    }
   ],
   "source": [
    "perform.shape"
   ]
  },
  {
   "cell_type": "code",
   "execution_count": 2,
   "metadata": {},
   "outputs": [
    {
     "data": {
      "text/plain": [
       "4532"
      ]
     },
     "execution_count": 2,
     "metadata": {},
     "output_type": "execute_result"
    }
   ],
   "source": [
    "perform.is_champ.sum()"
   ]
  },
  {
   "cell_type": "code",
   "execution_count": 12,
   "metadata": {},
   "outputs": [
    {
     "data": {
      "text/plain": [
       "((54436, 4682), (43732, 4682), (4983, 4682), (5721, 4682))"
      ]
     },
     "execution_count": 12,
     "metadata": {},
     "output_type": "execute_result"
    }
   ],
   "source": [
    "dm_perform = pd.get_dummies(perform, columns=['field_going', 'course_type', 'horse', 'jockey', 'trainer']) # trainsform dummies\n",
    "\n",
    "from horse.process import train_test_split\n",
    "\n",
    "dm_perform_train, dm_perform_test = train_test_split(dm_perform, 'race_date', 0.1)\n",
    "dm_perform_train, dm_perform_val = train_test_split(dm_perform_train, 'race_date', 0.1)\n",
    "\n",
    "dm_perform.shape, dm_perform_train.shape, dm_perform_val.shape, dm_perform_test.shape"
   ]
  },
  {
   "cell_type": "code",
   "execution_count": 13,
   "metadata": {},
   "outputs": [],
   "source": [
    "# Loading toolkits\n",
    "\n",
    "from horse.process import AveragePrecision, racing_champ\n",
    "\n",
    "remove_odds = lambda x: [col for col in x if col != 'win_odds']\n",
    "\n",
    "def comupte_champ(df, model, x_cols, kind='clf', way='min'):\n",
    "    X = df[x_cols]\n",
    "    result = df[['race_key', 'dr']]\n",
    "\n",
    "    if kind=='clf':\n",
    "        result['win'] = model.predict_proba(X)[:, 1]\n",
    "    elif kind=='reg':\n",
    "        result['win'] = model.predict(X)\n",
    "\n",
    "    func = min if way=='min' else max\n",
    "\n",
    "    return result.groupby(['race_key']) \\\n",
    "                .apply(lambda x: x[x['win']==func(x['win'])]) \\\n",
    "                .reset_index(drop=True)[['race_key', 'dr']]"
   ]
  },
  {
   "attachments": {},
   "cell_type": "markdown",
   "metadata": {},
   "source": [
    "# 1 Racing as Classification"
   ]
  },
  {
   "attachments": {},
   "cell_type": "markdown",
   "metadata": {},
   "source": [
    "## 1.1 consider odds"
   ]
  },
  {
   "cell_type": "code",
   "execution_count": 35,
   "metadata": {},
   "outputs": [
    {
     "name": "stdout",
     "output_type": "stream",
     "text": [
      "DONE LogisticRegression.\n",
      "AP for LogisticRegression: 0.0729\n",
      "DONE DecisionTreeClassifier.\n",
      "AP for DecisionTreeClassifier: 0.1913\n",
      "DONE RandomForestClassifier.\n",
      "AP for RandomForestClassifier: 0.3012\n",
      "DONE AdaBoostClassifier.\n",
      "AP for AdaBoostClassifier: 0.3085\n"
     ]
    }
   ],
   "source": [
    "\n",
    "from sklearn.linear_model import LogisticRegression\n",
    "from sklearn.tree import DecisionTreeClassifier\n",
    "from sklearn.ensemble import RandomForestClassifier, AdaBoostClassifier\n",
    "\n",
    "# data\n",
    "x_cols = get_x_cols(dm_perform_train.columns)\n",
    "\n",
    "X, y = dm_perform_train[x_cols], dm_perform_train['is_champ']\n",
    "\n",
    "# tunning\n",
    "models = {\n",
    "    'LogisticRegression':LogisticRegression()\n",
    "    , 'DecisionTreeClassifier':DecisionTreeClassifier(max_depth=50)\n",
    "    , 'RandomForestClassifier':RandomForestClassifier(max_depth=50)\n",
    "    , 'AdaBoostClassifier':AdaBoostClassifier()\n",
    "}\n",
    "\n",
    "val_target = racing_champ(dm_perform_val)\n",
    "\n",
    "\n",
    "for name in models:\n",
    "    # train on training set\n",
    "    models[name].fit(X, y)\n",
    "    print(f'DONE {name}.')\n",
    "    # eval on validation set\n",
    "    pred = comupte_champ(dm_perform_val, models[name], x_cols)\n",
    "    print(f'AP for {name}: {round(AveragePrecision(input=pred, target=val_target), 4)}')"
   ]
  },
  {
   "attachments": {},
   "cell_type": "markdown",
   "metadata": {},
   "source": [
    "## 1.2 Not consider odds"
   ]
  },
  {
   "cell_type": "code",
   "execution_count": 37,
   "metadata": {},
   "outputs": [
    {
     "name": "stdout",
     "output_type": "stream",
     "text": [
      "DONE LogisticRegression.\n",
      "AP for LogisticRegression: 0.0612\n",
      "DONE DecisionTreeClassifier.\n",
      "AP for DecisionTreeClassifier: 0.1522\n",
      "DONE RandomForestClassifier.\n",
      "AP for RandomForestClassifier: 0.2612\n",
      "DONE AdaBoostClassifier.\n",
      "AP for AdaBoostClassifier: 0.2612\n"
     ]
    }
   ],
   "source": [
    "\n",
    "\n",
    "# data\n",
    "x_cols = get_x_cols(dm_perform_train.columns)\n",
    "\n",
    "X, y = dm_perform_train[remove_odds(x_cols)], dm_perform_train['is_champ']\n",
    "\n",
    "# tunning\n",
    "models = {\n",
    "    'LogisticRegression':LogisticRegression()\n",
    "    , 'DecisionTreeClassifier':DecisionTreeClassifier(max_depth=50)\n",
    "    , 'RandomForestClassifier':RandomForestClassifier(max_depth=50)\n",
    "    , 'AdaBoostClassifier':AdaBoostClassifier()\n",
    "}\n",
    "\n",
    "val_target = racing_champ(dm_perform_val)\n",
    "\n",
    "\n",
    "for name in models:\n",
    "    # train on training set\n",
    "    models[name].fit(X, y)\n",
    "    print(f'DONE {name}.')\n",
    "    # eval on validation set\n",
    "    pred = comupte_champ(dm_perform_val, models[name], remove_odds(x_cols))\n",
    "    print(f'AP for {name}: {round(AveragePrecision(input=pred, target=val_target), 4)}')"
   ]
  },
  {
   "cell_type": "code",
   "execution_count": 39,
   "metadata": {},
   "outputs": [
    {
     "data": {
      "text/plain": [
       "[('declare_horse_wt', 0.08764925930322659),\n",
       " ('dr', 0.08161732488194812),\n",
       " ('act_wt', 0.07377448163907029),\n",
       " ('race_money', 0.059149047024692925),\n",
       " ('jockey_莫雷拉', 0.043555496984477936),\n",
       " ('jockey_潘頓', 0.041526564416187746),\n",
       " ('distance', 0.03562557256518506),\n",
       " ('field_going_好地', 0.020147412997150265),\n",
       " ('field_going_好地至快地', 0.017774191899829983),\n",
       " ('horse_金鎗六十(C238)', 0.008236686048908834),\n",
       " ('trainer_蔡約翰', 0.006694206510603512),\n",
       " ('jockey_田泰安', 0.006171536962392108),\n",
       " ('field_going_好地至黏地', 0.005422213637029039),\n",
       " ('horse_美麗傳承(V380)', 0.00478976250798933),\n",
       " ('course_type_草地', 0.0044577475795249885)]"
      ]
     },
     "execution_count": 39,
     "metadata": {},
     "output_type": "execute_result"
    }
   ],
   "source": [
    "f_imp = list(zip(remove_odds(x_cols), models['RandomForestClassifier'].feature_importances_))\n",
    "\n",
    "sorted(f_imp, key=lambda x: x[1], reverse=True)[:15]"
   ]
  },
  {
   "attachments": {},
   "cell_type": "markdown",
   "metadata": {},
   "source": [
    "# 2 Racing as Regression"
   ]
  },
  {
   "attachments": {},
   "cell_type": "markdown",
   "metadata": {},
   "source": [
    "## 2.1 Regression on Finish Time"
   ]
  },
  {
   "cell_type": "code",
   "execution_count": 33,
   "metadata": {},
   "outputs": [
    {
     "name": "stdout",
     "output_type": "stream",
     "text": [
      "[15.375 s] DONE ridge_regression.\n",
      "AP for ridge_regression: 0.1412\n",
      "[8.986 s] DONE DecisionTreeRegressor.\n",
      "AP for DecisionTreeRegressor: 0.1567\n",
      "[185.004 s] DONE RandomForestRegressor.\n",
      "AP for RandomForestRegressor: 0.2763\n",
      "[1398.162 s] DONE AdaBoostRegressor.\n",
      "AP for AdaBoostRegressor: 0.0921\n"
     ]
    }
   ],
   "source": [
    "from horse.process import AveragePrecision, racing_champ\n",
    "\n",
    "from sklearn.linear_model import Ridge\n",
    "from sklearn.tree import DecisionTreeRegressor\n",
    "from sklearn.ensemble import RandomForestRegressor, AdaBoostRegressor\n",
    "import time\n",
    "\n",
    "# data\n",
    "x_cols = get_x_cols(dm_perform_train.columns)\n",
    "X, y = dm_perform_train[x_cols], dm_perform_train['finish_time']\n",
    "\n",
    "# tunning\n",
    "models2_1 = {\n",
    "    'ridge_regression':Ridge()\n",
    "    , 'DecisionTreeRegressor':DecisionTreeRegressor(max_depth=15)\n",
    "    , 'RandomForestRegressor':RandomForestRegressor(max_depth=15\n",
    "                                                    , n_estimators=25\n",
    "                                                    , min_samples_leaf=2)\n",
    "    , 'AdaBoostRegressor':AdaBoostRegressor()\n",
    "}\n",
    "\n",
    "val_target = racing_champ(dm_perform_val)\n",
    "\n",
    "for name in models2_1:\n",
    "    # train on training set\n",
    "    t0 = time.time()\n",
    "    # train on training set\n",
    "    models2_1[name].fit(X, y)\n",
    "    t1=time.time()\n",
    "    print(f'[{round(t1-t0, 3)} s] DONE {name}.')\n",
    "    # eval on validation set\n",
    "    pred = comupte_champ(dm_perform_val, models2_1[name], x_cols, kind='reg', way='min')\n",
    "    print(f'AP for {name}: {round(AveragePrecision(input=pred, target=val_target), 4)}')\n",
    "    "
   ]
  },
  {
   "cell_type": "code",
   "execution_count": 34,
   "metadata": {},
   "outputs": [
    {
     "name": "stdout",
     "output_type": "stream",
     "text": [
      "[12.693 s] DONE ridge_regression.\n",
      "AP for ridge_regression: 0.1412\n",
      "[6.841 s] DONE DecisionTreeRegressor.\n",
      "AP for DecisionTreeRegressor: 0.0898\n",
      "[94.198 s] DONE RandomForestRegressor.\n",
      "AP for RandomForestRegressor: 0.1647\n",
      "[1354.676 s] DONE AdaBoostRegressor.\n",
      "AP for AdaBoostRegressor: 0.0889\n"
     ]
    }
   ],
   "source": [
    "from horse.process import AveragePrecision, racing_champ\n",
    "import time\n",
    "from sklearn.linear_model import Ridge\n",
    "from sklearn.tree import DecisionTreeRegressor\n",
    "from sklearn.ensemble import RandomForestRegressor, AdaBoostRegressor\n",
    "\n",
    "# data\n",
    "x_cols = get_x_cols(dm_perform_train.columns)\n",
    "X, y = dm_perform_train[remove_odds(x_cols)], dm_perform_train['finish_time']\n",
    "\n",
    "# tunning\n",
    "models2_2 = {\n",
    "    'ridge_regression':Ridge()\n",
    "    , 'DecisionTreeRegressor':DecisionTreeRegressor(max_depth=15)\n",
    "    , 'RandomForestRegressor':RandomForestRegressor(max_depth=15\n",
    "                                                    , n_estimators=25\n",
    "                                                    , min_samples_leaf=2)\n",
    "    , 'AdaBoostRegressor':AdaBoostRegressor()\n",
    "}\n",
    "\n",
    "val_target = racing_champ(dm_perform_val)\n",
    "\n",
    "for name in models2_2:\n",
    "    t0 = time.time()\n",
    "    # train on training set\n",
    "    models2_2[name].fit(X, y)\n",
    "    t1=time.time()\n",
    "    print(f'[{round(t1-t0, 3)} s] DONE {name}.')\n",
    "    # eval on validation set\n",
    "    pred = comupte_champ(dm_perform_val, models2_2[name], remove_odds(x_cols), kind='reg', way='min')\n",
    "    print(f'AP for {name}: {round(AveragePrecision(input=pred, target=val_target), 4)}')\n",
    "    "
   ]
  },
  {
   "cell_type": "code",
   "execution_count": 30,
   "metadata": {},
   "outputs": [],
   "source": [
    "def comupte_champ(df, model, x_cols, kind='clf', way='max'):\n",
    "    X = df[x_cols]\n",
    "    result = df[['race_key', 'dr']]\n",
    "\n",
    "    if kind=='clf':\n",
    "        result['win'] = model.predict_proba(X)[:, 1]\n",
    "    \n",
    "    elif kind=='reg':\n",
    "        result['win'] = model.predict(X)\n",
    "\n",
    "    if way=='max':\n",
    "        return result.groupby(['race_key']) \\\n",
    "                .apply(lambda x: x[x['win']==x['win'].max()]) \\\n",
    "                .reset_index(drop=True)[['race_key', 'dr']]\n",
    "    else:\n",
    "        return result.groupby(['race_key']) \\\n",
    "                .apply(lambda x: x[x['win']==x['win'].min()]) \\\n",
    "                .reset_index(drop=True)[['race_key', 'dr']]"
   ]
  },
  {
   "cell_type": "code",
   "execution_count": 37,
   "metadata": {},
   "outputs": [
    {
     "name": "stdout",
     "output_type": "stream",
     "text": [
      "[16.961 s] DONE ridge_regression.\n",
      "AP for ridge_regression: 0.1318\n",
      "[8.879 s] DONE DecisionTreeRegressor.\n",
      "AP for DecisionTreeRegressor: 0.1473\n",
      "[271.759 s] DONE RandomForestRegressor.\n",
      "AP for RandomForestRegressor: 0.2974\n",
      "[826.537 s] DONE AdaBoostRegressor.\n",
      "AP for AdaBoostRegressor: 0.1018\n"
     ]
    }
   ],
   "source": [
    "from horse.process import AveragePrecision, racing_champ\n",
    "import time\n",
    "from sklearn.linear_model import Ridge\n",
    "from sklearn.tree import DecisionTreeRegressor\n",
    "from sklearn.ensemble import RandomForestRegressor, AdaBoostRegressor\n",
    "\n",
    "# data\n",
    "x_cols = get_x_cols(dm_perform_train.columns)\n",
    "X, y = dm_perform_train[x_cols], dm_perform_train['speed']\n",
    "\n",
    "# tunning\n",
    "models2_3 = {\n",
    "    'ridge_regression':Ridge()\n",
    "    , 'DecisionTreeRegressor':DecisionTreeRegressor(max_depth=15)\n",
    "    , 'RandomForestRegressor':RandomForestRegressor(max_depth=15\n",
    "                                                    , n_estimators=25\n",
    "                                                    , min_samples_leaf=2)\n",
    "    , 'AdaBoostRegressor':AdaBoostRegressor()\n",
    "}\n",
    "\n",
    "val_target = racing_champ(dm_perform_val)\n",
    "\n",
    "for name in models2_3:\n",
    "    t0 = time.time()\n",
    "    # train on training set\n",
    "    models2_3[name].fit(X, y)\n",
    "    t1=time.time()\n",
    "    print(f'[{round(t1-t0, 3)} s] DONE {name}.')\n",
    "    # eval on validation set\n",
    "    pred = comupte_champ(dm_perform_val, models2_3[name], x_cols, kind='reg', way='max')\n",
    "    print(f'AP for {name}: {round(AveragePrecision(input=pred, target=val_target), 4)}')\n",
    "    "
   ]
  },
  {
   "cell_type": "code",
   "execution_count": 36,
   "metadata": {},
   "outputs": [
    {
     "name": "stdout",
     "output_type": "stream",
     "text": [
      "[12.905 s] DONE ridge_regression.\n",
      "AP for ridge_regression: 0.1341\n",
      "[7.035 s] DONE DecisionTreeRegressor.\n",
      "AP for DecisionTreeRegressor: 0.0899\n",
      "[94.631 s] DONE RandomForestRegressor.\n",
      "AP for RandomForestRegressor: 0.1846\n",
      "[1110.578 s] DONE AdaBoostRegressor.\n",
      "AP for AdaBoostRegressor: 0.0792\n"
     ]
    }
   ],
   "source": [
    "from horse.process import AveragePrecision, racing_champ\n",
    "import time\n",
    "from sklearn.linear_model import Ridge\n",
    "from sklearn.tree import DecisionTreeRegressor\n",
    "from sklearn.ensemble import RandomForestRegressor, AdaBoostRegressor\n",
    "\n",
    "# data\n",
    "x_cols = get_x_cols(dm_perform_train.columns)\n",
    "X, y = dm_perform_train[remove_odds(x_cols)], dm_perform_train['speed']\n",
    "\n",
    "# tunning\n",
    "models2_4 = {\n",
    "    'ridge_regression':Ridge()\n",
    "    , 'DecisionTreeRegressor':DecisionTreeRegressor(max_depth=15)\n",
    "    , 'RandomForestRegressor':RandomForestRegressor(max_depth=15\n",
    "                                                    , n_estimators=25\n",
    "                                                    , min_samples_leaf=2)\n",
    "    , 'AdaBoostRegressor':AdaBoostRegressor()\n",
    "}\n",
    "\n",
    "val_target = racing_champ(dm_perform_val)\n",
    "\n",
    "for name in models2_4:\n",
    "    t0 = time.time()\n",
    "    # train on training set\n",
    "    models2_4[name].fit(X, y)\n",
    "    t1=time.time()\n",
    "    print(f'[{round(t1-t0, 3)} s] DONE {name}.')\n",
    "    # eval on validation set\n",
    "    pred = comupte_champ(dm_perform_val, models2_4[name], remove_odds(x_cols), kind='reg', way='max')\n",
    "    print(f'AP for {name}: {round(AveragePrecision(input=pred, target=val_target), 4)}')\n",
    "    "
   ]
  }
 ],
 "metadata": {
  "kernelspec": {
   "display_name": "Python 3",
   "language": "python",
   "name": "python3"
  },
  "language_info": {
   "codemirror_mode": {
    "name": "ipython",
    "version": 3
   },
   "file_extension": ".py",
   "mimetype": "text/x-python",
   "name": "python",
   "nbconvert_exporter": "python",
   "pygments_lexer": "ipython3",
   "version": "3.8.10"
  },
  "orig_nbformat": 4,
  "vscode": {
   "interpreter": {
    "hash": "00499476119a38fdac92034240d7ef2fa4f5985bf02d398f0fd3693908f0286e"
   }
  }
 },
 "nbformat": 4,
 "nbformat_minor": 2
}
